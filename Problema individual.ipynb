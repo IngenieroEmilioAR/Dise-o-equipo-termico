{
 "cells": [
  {
   "cell_type": "markdown",
   "metadata": {},
   "source": [
    "# Problema individual\n",
    "\n",
    "Diseñar un intercambiador agua-agua de dos pasos en tubos y uno en coraza. Se desea que el agua sea enfriada de 95 a 40 °C con un flujo másico de 100000 $\\frac{kg}{h}$.\n",
    "Se emplea agua de mar como refrigerante, con un incremento de termperatura de 25°C a 50°C.\n",
    "\n",
    "Lo que se realiza a continuación:\n",
    "<ul>\n",
    "    <li>Se explora cómo afecta al coeficiente global de transferencia de calor los cambios en las dimensiones de los tubos</li>\n",
    "    <li>Se explora cómo afecta al coeficiente global de transferencia de calor los cambios en el material de los tubos</li>\n",
    "</ul>\n",
    "\n",
    "Se resuelve inicialmente para tuberías de las siguientes características\n",
    "\n",
    "<table>\n",
    "<tr>\n",
    "    <th scope = 'col'> Material </th>\n",
    "    <th scope = 'col'> Longitud </th>\n",
    "    <th scope = 'col'> Diámetro exterior </th>\n",
    "    <th scope = 'col'> Espesor </th>\n",
    "</tr>\n",
    "<tr>\n",
    "    <td> Cobre</td>\n",
    "    <td> 1.8 m </td>\n",
    "    <td> 20 mm </td>\n",
    "    <td> 1.6 mm </td>\n",
    "</table>"
   ]
  },
  {
   "cell_type": "code",
   "execution_count": 61,
   "metadata": {},
   "outputs": [],
   "source": [
    "import objetos as obj\n",
    "import Diseño_tubos_coraza as dtc\n",
    "import matplotlib.pyplot as plt"
   ]
  },
  {
   "cell_type": "code",
   "execution_count": 62,
   "metadata": {},
   "outputs": [],
   "source": [
    "Q = 6397305.475\n",
    "U = 1150\n",
    "\n",
    "pasos_tubos = 2\n",
    "pasos_coraza = 1\n",
    "corte_bafle = '25%'\n",
    "\n",
    "tipo_pitch = \"triangular\"\n",
    "\n",
    "valores_kn = {\n",
    "    'triangular': {1: [0.319, 2.142], 2: [0.249, 2.207], 4: [0.175, 2.285], 6: [0.0746,2.499], 8: [0.0365, 2.675]}, \n",
    "    'cuadrado': {1: [0.215,2.207], 2: [0.156,2.291], 4: [0.158,2.263], 6: [0.0402,2.617], 8: [0.0331,2.643]}}\n"
   ]
  },
  {
   "cell_type": "code",
   "execution_count": 63,
   "metadata": {},
   "outputs": [],
   "source": [
    "tuberia_cobre = obj.Tuberia('Cobre', 0.02, 1.6e-3, 1.83, 401)\n",
    "FlujoCaliente = obj.FlujoFluido('Agua de rio', 95, 40)\n",
    "FlujoFrio = obj.FlujoFluido('Agua de mar', 25, 40)\n",
    "propiedadesAguaRio = obj.Propiedades('Agua de rio', [95,40], [65,70] , [980.4,977.5], [0.433e-3,0.404e-3], [4187,4190], [0.659,0.663], [2.75,2.55], 7500**(-1), 27.7778)\n",
    "propiedadesAguaMar = obj.Propiedades('Agua de mar', [25, 40], [30,35], [996,994], [0.798e-3, 0.720e-3], [4178,4178], [0.615,0.623], [5.42,4.83], 2000**(-1), 102.079)\n",
    "\n",
    "FlujoTubos = propiedadesAguaMar\n",
    "FlujoCoraza = propiedadesAguaRio"
   ]
  },
  {
   "cell_type": "code",
   "execution_count": 64,
   "metadata": {},
   "outputs": [],
   "source": [
    "def lado_tubos(caracteristicas_tuberia: object, FlujoCaliente: object, FlujoFrio: object, FlujoTubos: object):\n",
    "    print('Para el lado tubos:')\n",
    "    dtm = dtc.temperatura_m(FlujoCaliente.temperatura_entrada, FlujoCaliente.temperatura_salida, FlujoFrio.temperatura_entrada, FlujoFrio.temperatura_salida)\n",
    "    area_total_tc = dtc.area_transferecia_calor(Q, U, dtm)\n",
    "    numero_tubos = area_total_tc/caracteristicas_tuberia.area_transferecia_calor\n",
    "    numero_tubos_por_paso = area_total_tc/(caracteristicas_tuberia.area_transferecia_calor*pasos_tubos)\n",
    "    velocidad_tubos = FlujoTubos.flujo_masico/(numero_tubos_por_paso*FlujoTubos.densidad*caracteristicas_tuberia.area_flujo_fluido)\n",
    "\n",
    "    reynolds_tubos = dtc.reynolds(FlujoTubos.densidad, FlujoTubos.viscosidad, velocidad_tubos, caracteristicas_tuberia.di)\n",
    "\n",
    "    jh = float(input(f'Ingresa valor de jh  para Re={reynolds_tubos} y L/D={caracteristicas_tuberia.relacionLD}: '))\n",
    "    #jf = float(input(f'\\nIngresa valor de jf  para Re={reynolds_tubos} y L/D={caracteristicas_tuberia.relacionLD}: '))\n",
    "    \n",
    "\n",
    "    hi = FlujoTubos.coeficiente_conductivo*FlujoTubos.numero_prandtl**(1/3)*jh*reynolds_tubos/caracteristicas_tuberia.di\n",
    "    #caida_presion = pasos_tubos*(8*jf*(caracteristicas_tuberia.L/caracteristicas_tuberia.di) +2.5)*FlujoTubos.densidad*velocidad_tubos**2/2\n",
    "\n",
    "    print(f\"\"\"\n",
    "    número tubos: {numero_tubos}\n",
    "    h lado tubos (hi): {hi} W/m2K\n",
    "    ΔP lado tubos: x Pa\n",
    "    \"\"\")\n",
    "    return hi, numero_tubos#, caida_presion\n",
    "\n",
    "def lado_coraza(caracteristicas_tuberia, numero_tubos, FlujoCoraza, tipo_pitch):\n",
    "    \n",
    "    print(\"Para lado coraza: \")\n",
    "    diametro_banco = caracteristicas_tuberia.do*(numero_tubos/valores_kn[tipo_pitch][pasos_tubos][0])**(1/valores_kn[tipo_pitch][pasos_tubos][1])\n",
    "    diametro_interno_coraza = diametro_banco + (27.62*(diametro_banco - 0.2) + 50)*10**(-3)\n",
    "    separacion_bafles = 0.4*diametro_interno_coraza\n",
    "    pitch_tubos = 1.25*caracteristicas_tuberia.do\n",
    "\n",
    "    area_flujo_coraza = (pitch_tubos - caracteristicas_tuberia.do)*diametro_interno_coraza*separacion_bafles/pitch_tubos\n",
    "    diametro_hidraulico_coraza = dtc.diametro_hidraulico_coraza(caracteristicas_tuberia.do, tipo_pitch, pitch_tubos)\n",
    "\n",
    "    velocidad_coraza = FlujoCoraza.flujo_masico/(FlujoCoraza.densidad*area_flujo_coraza)\n",
    "    reynolds_coraza = velocidad_coraza*diametro_hidraulico_coraza*FlujoCoraza.densidad/FlujoCoraza.viscosidad\n",
    "\n",
    "\n",
    "    jh = float(input(f'Ingresa valor de jh  para Re={reynolds_coraza} y corte de bafle={corte_bafle}: '))\n",
    "    #jf = float(input(f'\\nIngresa valor de jf  para Re={reynolds_coraza} y corte de bafle={corte_bafle}: '))\n",
    "\n",
    "    hs = FlujoCoraza.coeficiente_conductivo*FlujoCoraza.numero_prandtl**(1/3)*jh*reynolds_coraza/diametro_hidraulico_coraza\n",
    "    #caida_presion_coraza = 8*jf*(diametro_interno_coraza*caracteristicas_tuberia.L*FlujoCoraza.densidad*velocidad_coraza**2)/(diametro_hidraulico_coraza*separacion_bafles*2)\n",
    "    \n",
    "    print(f\"\"\"\n",
    "    Diámetro del banco de tubos: {diametro_banco}\n",
    "    Diámetro interno coraza: {diametro_interno_coraza}\n",
    "    Separación de bafles: {separacion_bafles}\n",
    "    Pitch de los tubos: {pitch_tubos}\n",
    "    Área de flujo en coraza: {area_flujo_coraza}\n",
    "    Diámetro hidráulico: {diametro_hidraulico_coraza}\n",
    "    Velocidad lado coraza: {velocidad_coraza}\n",
    "    Re: {reynolds_coraza}\n",
    "\n",
    "    h lado coraza (ho ó hs): {hs}\n",
    "    ΔP lado coraza: \n",
    "    \"\"\")\n",
    "\n",
    "    return hs#, caida_presion_coraza\n",
    "\n",
    "\n"
   ]
  },
  {
   "cell_type": "code",
   "execution_count": 65,
   "metadata": {},
   "outputs": [
    {
     "name": "stdout",
     "output_type": "stream",
     "text": [
      "Para el lado tubos:\n",
      "\n",
      "    número tubos: 1934.8975613211414\n",
      "    h lado tubos (hi): 26771.54702963064 W/m2K\n",
      "    ΔP lado tubos: x Pa\n",
      "    \n",
      "Para lado coraza: \n",
      "\n",
      "    Diámetro del banco de tubos: 1.1582743315377138\n",
      "    Diámetro interno coraza: 1.2347418685747855\n",
      "    Separación de bafles: 0.49389674742991424\n",
      "    Pitch de los tubos: 0.025\n",
      "    Área de flujo en coraza: 0.12196699856092427\n",
      "    Diámetro hidráulico: 0.014201000000000005\n",
      "    Velocidad lado coraza: 0.23264568367399668\n",
      "    Re: 7728.211076118979\n",
      "\n",
      "    h lado coraza (ho ó hs): 32853.9355453255\n",
      "    ΔP lado coraza: \n",
      "    \n"
     ]
    }
   ],
   "source": [
    "hi,nt = lado_tubos(tuberia_cobre, FlujoCaliente, FlujoFrio, FlujoTubos)\n",
    "hs = lado_coraza(tuberia_cobre, nt, FlujoCoraza, tipo_pitch)\n"
   ]
  },
  {
   "cell_type": "code",
   "execution_count": 66,
   "metadata": {},
   "outputs": [
    {
     "name": "stdout",
     "output_type": "stream",
     "text": [
      "1237.8916998555067\n"
     ]
    }
   ],
   "source": [
    "\n",
    "Ucalc = obj.coefiente_global_U([hi,hs], tuberia_cobre.k, tuberia_cobre.di, tuberia_cobre.do, [FlujoTubos.Rf, FlujoCoraza.Rf])\n",
    "print(Ucalc)\n"
   ]
  },
  {
   "cell_type": "code",
   "execution_count": 67,
   "metadata": {},
   "outputs": [],
   "source": [
    "valores_k = [401,110,52,54,80.2,72.7,60.5,63.9,51.9,41,15.1,14.9]\n",
    "material = ['Cobre puro', 'Latón','Bronce comercial', 'Bronce fosforado', 'Hierro puro', 'Armco', 'Acero al carbón liso', 'AISI 1010', 'Carbono-silicio', 'Carbono-manganeso-silicio', 'Acero inoxidable AISI 302', 'Acero inoxidable AISI304']"
   ]
  },
  {
   "cell_type": "code",
   "execution_count": 68,
   "metadata": {},
   "outputs": [],
   "source": [
    "coeficientes_U = [obj.coefiente_global_U([hi,hs], i, tuberia_cobre.di, tuberia_cobre.do, [FlujoTubos.Rf, FlujoCoraza.Rf]) for i in valores_k]"
   ]
  },
  {
   "cell_type": "code",
   "execution_count": 69,
   "metadata": {},
   "outputs": [
    {
     "data": {
      "image/png": "[encoded data removed]",
      "text/plain": [
       "<Figure size 576x576 with 1 Axes>"
      ]
     },
     "metadata": {},
     "output_type": "display_data"
    }
   ],
   "source": [
    "fig, ax = plt.subplots(figsize = (8,8))\n",
    "ax.scatter(valores_k, coeficientes_U)\n",
    "\n",
    "ax.set_xlabel('Coeficiente k [W/mk]')\n",
    "ax.set_ylabel('Coeficiente global U [W/m2k]')\n",
    "\n",
    "\n",
    "ax.grid(True)\n",
    "\n",
    "\n",
    "\n"
   ]
  },
  {
   "cell_type": "code",
   "execution_count": 70,
   "metadata": {},
   "outputs": [],
   "source": [
    "#Para tuberías de cobre de distito calibre\n",
    "\n",
    "tuberia_cobre2 = obj.Tuberia('Cobre', 0.02, 1.6e-3, 2, 401)\n",
    "tuberia_cobre3 = obj.Tuberia('Cobre', 0.02, 1.6e-3, 3, 401)\n",
    "tuberia_cobre4 = obj.Tuberia('Cobre', 0.02, 1.6e-3, 5, 401)\n",
    "tuberia_cobre5 = obj.Tuberia('Cobre', 0.02, 1.6e-3, 7, 401)\n",
    "tuberia_cobre6 = obj.Tuberia('Cobre', 0.02, 1.6e-3, 10, 401)\n",
    "\n",
    "tuberias = [tuberia_cobre, tuberia_cobre2, tuberia_cobre3, tuberia_cobre4, tuberia_cobre5, tuberia_cobre6]"
   ]
  },
  {
   "cell_type": "code",
   "execution_count": 72,
   "metadata": {},
   "outputs": [
    {
     "name": "stdout",
     "output_type": "stream",
     "text": [
      "Para el lado tubos:\n",
      "\n",
      "    número tubos: 1934.8975613211414\n",
      "    h lado tubos (hi): 26771.54702963064 W/m2K\n",
      "    ΔP lado tubos: x Pa\n",
      "    \n",
      "Para lado coraza: \n",
      "\n",
      "    Diámetro del banco de tubos: 1.1582743315377138\n",
      "    Diámetro interno coraza: 1.2347418685747855\n",
      "    Separación de bafles: 0.49389674742991424\n",
      "    Pitch de los tubos: 0.025\n",
      "    Área de flujo en coraza: 0.12196699856092427\n",
      "    Diámetro hidráulico: 0.014201000000000005\n",
      "    Velocidad lado coraza: 0.23264568367399668\n",
      "    Re: 7728.211076118979\n",
      "\n",
      "    h lado coraza (ho ó hs): 32853.9355453255\n",
      "    ΔP lado coraza: \n",
      "    \n",
      "Para el lado tubos:\n",
      "\n",
      "    número tubos: 1770.4312686088444\n",
      "    h lado tubos (hi): 29258.52134385862 W/m2K\n",
      "    ΔP lado tubos: x Pa\n",
      "    \n",
      "Para lado coraza: \n",
      "\n",
      "    Diámetro del banco de tubos: 1.1125798360732413\n",
      "    Diámetro interno coraza: 1.1877852911455842\n",
      "    Separación de bafles: 0.4751141164582337\n",
      "    Pitch de los tubos: 0.025\n",
      "    Área de flujo en coraza: 0.11286671182894403\n",
      "    Diámetro hidráulico: 0.014201000000000005\n",
      "    Velocidad lado coraza: 0.2514035830943288\n",
      "    Re: 8351.326036928112\n",
      "\n",
      "    h lado coraza (ho ó hs): 33351.21180409962\n",
      "    ΔP lado coraza: \n",
      "    \n",
      "Para el lado tubos:\n",
      "\n",
      "    número tubos: 1180.2875124058965\n",
      "    h lado tubos (hi): 43887.78201578793 W/m2K\n",
      "    ΔP lado tubos: x Pa\n",
      "    \n",
      "Para lado coraza: \n",
      "\n",
      "    Diámetro del banco de tubos: 0.9258562721022152\n",
      "    Diámetro interno coraza: 0.9959044223376784\n",
      "    Separación de bafles: 0.39836176893507136\n",
      "    Pitch de los tubos: 0.025\n",
      "    Área de flujo en coraza: 0.0793460494745396\n",
      "    Diámetro hidráulico: 0.014201000000000005\n",
      "    Velocidad lado coraza: 0.35761195363578296\n",
      "    Re: 11879.440948121528\n",
      "\n",
      "    h lado coraza (ho ó hs): 42084.597951147334\n",
      "    ΔP lado coraza: \n",
      "    \n",
      "Para el lado tubos:\n",
      "\n",
      "    número tubos: 708.1725074435379\n",
      "    h lado tubos (hi): 67660.33060767304 W/m2K\n",
      "    ΔP lado tubos: x Pa\n",
      "    \n",
      "Para lado coraza: \n",
      "\n",
      "    Diámetro del banco de tubos: 0.7345528874106423\n",
      "    Diámetro interno coraza: 0.7993172381609243\n",
      "    Separación de bafles: 0.3197268952643697\n",
      "    Pitch de los tubos: 0.025\n",
      "    Área de flujo en coraza: 0.05111264377769662\n",
      "    Diámetro hidráulico: 0.014201000000000005\n",
      "    Velocidad lado coraza: 0.5551482699522047\n",
      "    Re: 18441.360875385344\n",
      "\n",
      "    h lado coraza (ho ó hs): 53452.73977972079\n",
      "    ΔP lado coraza: \n",
      "    \n",
      "Para el lado tubos:\n",
      "\n",
      "    número tubos: 505.8375053168127\n",
      "    h lado tubos (hi): 56322.65358692785 W/m2K\n",
      "    ΔP lado tubos: x Pa\n",
      "    \n",
      "Para lado coraza: \n",
      "\n",
      "    Diámetro del banco de tubos: 0.6306841369534281\n",
      "    Diámetro interno coraza: 0.6925796328160817\n",
      "    Separación de bafles: 0.2770318531264327\n",
      "    Pitch de los tubos: 0.025\n",
      "    Área de flujo en coraza: 0.038373323823332695\n",
      "    Diámetro hidráulico: 0.014201000000000005\n",
      "    Velocidad lado coraza: 0.739448474583749\n",
      "    Re: 24563.593019439915\n",
      "\n",
      "    h lado coraza (ho ó hs): 45883.27206829295\n",
      "    ΔP lado coraza: \n",
      "    \n",
      "Para el lado tubos:\n",
      "\n",
      "    número tubos: 354.08625372176897\n",
      "    h lado tubos (hi): 76803.61852762887 W/m2K\n",
      "    ΔP lado tubos: x Pa\n",
      "    \n",
      "Para lado coraza: \n",
      "\n",
      "    Diámetro del banco de tubos: 0.5365685912534042\n",
      "    Diámetro interno coraza: 0.5958646157438232\n",
      "    Separación de bafles: 0.2383458462975293\n",
      "    Pitch de los tubos: 0.025\n",
      "    Área de flujo en coraza: 0.028404371223642734\n",
      "    Diámetro hidráulico: 0.014201000000000005\n",
      "    Velocidad lado coraza: 0.9989693326586728\n",
      "    Re: 33184.56521279895\n",
      "\n",
      "    h lado coraza (ho ó hs): 51299.35015126451\n",
      "    ΔP lado coraza: \n",
      "    \n"
     ]
    }
   ],
   "source": [
    "U_variando_L = []\n",
    "\n",
    "for i in tuberias:\n",
    "    hi,nt = lado_tubos(i, FlujoCaliente, FlujoFrio, FlujoTubos)\n",
    "    hs = lado_coraza(i, nt, FlujoCoraza, tipo_pitch)\n",
    "    Ucalc = obj.coefiente_global_U([hi,hs], i.k, i.di, i.do, [FlujoTubos.Rf, FlujoCoraza.Rf])\n",
    "    \n",
    "    U_variando_L.append(Ucalc)\n",
    "    \n",
    "\n",
    "    "
   ]
  },
  {
   "cell_type": "code",
   "execution_count": 73,
   "metadata": {},
   "outputs": [
    {
     "data": {
      "image/png": "[encoded data removed]",
      "text/plain": [
       "<Figure size 576x576 with 1 Axes>"
      ]
     },
     "metadata": {},
     "output_type": "display_data"
    }
   ],
   "source": [
    "fig, ax = plt.subplots(figsize = (8,8))\n",
    "longitudes = [i.L for i in tuberias]\n",
    "ax.scatter(longitudes, U_variando_L)\n",
    "\n",
    "ax.set_xlabel('Longitud de tubo [m]')\n",
    "ax.set_ylabel('Coeficiente global U [W/m2k]')\n",
    "\n",
    "\n",
    "ax.grid(True)"
   ]
  }
 ],
 "metadata": {
  "interpreter": {
   "hash": "8c2158d8e60a9c54268262a1f46e467434933b42f64de8c8971186b224dfe0c3"
  },
  "kernelspec": {
   "display_name": "Python 3.10.2 ('det_env': venv)",
   "language": "python",
   "name": "python3"
  },
  "language_info": {
   "codemirror_mode": {
    "name": "ipython",
    "version": 3
   },
   "file_extension": ".py",
   "mimetype": "text/x-python",
   "name": "python",
   "nbconvert_exporter": "python",
   "pygments_lexer": "ipython3",
   "version": "3.10.2"
  },
  "orig_nbformat": 4
 },
 "nbformat": 4,
 "nbformat_minor": 2
}
