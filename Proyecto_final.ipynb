{
 "cells": [
  {
   "cell_type": "markdown",
   "metadata": {},
   "source": [
    "### Problema\n",
    "\n",
    "Se desea diseñar un intercambiador de calor de tubos y coraza, con queroseno y petróleo como fluidos de trabajo. La caída de presión en el lado coraza debe ser de 15kPa y 40 kPa para el lado tubos. \n",
    "\n",
    "Considerar que el material del intercambiador es acero al carbón (k = 43W/mK). \n",
    "\n",
    "#### Consideraciones\n",
    "<ul>\n",
    "\n",
    "<li>El sistema se encuentra bien aislado.</li>\n",
    "<li>El flujo es contracorriente.</li>\n",
    "</ul>\n",
    "\n",
    "#### Propiedades\n",
    "\n",
    "<table title = \"Propiedades\">\n",
    "<tr>\n",
    "    <th scope = \"col\"> </th>\n",
    "    <th scope = \"col\"> Queronseno </th>\n",
    "    <th scope = \"col\"> Petróleo </th>\n",
    "</tr>\n",
    "<tr>\n",
    "    <td> Cp [J/kg°C]</td>\n",
    "    <td> 2470 </td>\n",
    "    <td> 2050 </td>\n",
    "</tr>\n",
    "<tr>\n",
    "    <td> k [W/m°C] </td>\n",
    "    <td> 0.132 </td>\n",
    "    <td> 0.133 </td>\n",
    "</tr>\n",
    "<tr>\n",
    "    <td> μ [mPa s]</td>\n",
    "    <td> 0.4 </td>\n",
    "    <td> 3.6 </td>\n",
    "</tr>\n",
    "<tr>\n",
    "    <td> ρ [kg/m3] </td>\n",
    "    <td> 730 </td>\n",
    "    <td> 830 </td>\n",
    "</tr>\n",
    "<tr>\n",
    "    <td> m [kg/s] </td>\n",
    "    <td> 25 </td>\n",
    "    <td> ¿? </td>\n",
    "</tr>\n",
    "<tr>\n",
    "    <td> Ti [°C] </td>\n",
    "    <td> 200 </td>\n",
    "    <td> 35 </td>\n",
    "</tr>\n",
    "<tr>\n",
    "    <td> To [°C] </td>\n",
    "    <td> 95.16 </td>\n",
    "    <td> 74.94 </td>\n",
    "</tr>\n",
    "<tr>\n",
    "    <td> R [m2°C/W] </td>\n",
    "    <td> 0.0002 </td>\n",
    "    <td> 0.0005 </td>\n",
    "</tr>\n",
    "</table>\n",
    "\n",
    "\n",
    "\n",
    "#### Anexo\n",
    "\n",
    "<ul>\n",
    "<li>Gráficos de jh y jf en función de Re para tubos y para coraza, tomado de [1]. </li>\n",
    "\n",
    "<img src = \"./Graficos/jh lado tubos.png\" alt = \"Gráfico jh lado tubos\">\n",
    "<p> Fig. 1. Valores de jh en función de Re y la relación L/D para lado tubos</p>\n",
    "<img src = \"./Graficos/jf lado tubos.png\" alt = \"Gráfico jf lado tubos\">\n",
    "<p> Fig. 2. Valores de jf para lado tubos </p>\n",
    "<img src = \"./Graficos/jh lado coraza.png\" alt = \"Gráfico jh lado coraza\">\n",
    "<p> Fig. 3. Valores de jh para lado coraza </p>\n",
    "<img src = \"./Graficos/jf lado coraza.png\" alt = \"Gráfico jf lado coraza\">\n",
    "<p> Fig. 4. Valores de jf para lado coraza </p>\n",
    "\n",
    "<li> Valores típicos de U para intercambiador de tubos y coraza, tomado de [1].</li>\n",
    "<img src = \"./Graficos/Valores_tipicos_U_ITyC.png\" alt = \"Tabla de valores de U para varios sistemas, ITyC.\">\n",
    "<p> Fig. 5. Tabla de valores de U para varios sistemas, ITyC. </p>\n"
   ]
  },
  {
   "cell_type": "code",
   "execution_count": 1,
   "metadata": {},
   "outputs": [],
   "source": [
    "import objetos as obj\n",
    "import Diseño_tubos_coraza as dtc\n",
    "import matplotlib.pyplot as plt"
   ]
  },
  {
   "cell_type": "markdown",
   "metadata": {},
   "source": [
    "Se crean objetos con referencia a los fluidos y el material."
   ]
  },
  {
   "cell_type": "code",
   "execution_count": 2,
   "metadata": {},
   "outputs": [],
   "source": [
    "# creación de objetos\n",
    "\n",
    "tuberia_acero = obj.Tuberia(\n",
    "    material = \"Acero al carbón\",\n",
    "    do = 0.019,\n",
    "    espesor = 0.001,\n",
    "    L = 8.61,\n",
    "    k = 43 \n",
    ")\n",
    "\n",
    "FlujoCaliente = obj.FlujoFluido(\n",
    "    fluido = \"queroseno\",\n",
    "    temperatura_entrada= 200,\n",
    "    temperatura_salida= 95.16,\n",
    ")\n",
    "\n",
    "FlujoFrio = obj.FlujoFluido(\n",
    "    fluido = \"petróleo\",\n",
    "    temperatura_entrada= 35,\n",
    "    temperatura_salida= 74.9,\n",
    ")\n",
    "\n",
    "propiedadesQueroseno = obj.Propiedades(\n",
    "    fluido = \"queroseno\",\n",
    "    temp_entrada_salida = [200,95.16],\n",
    "    temperaturas_propiedades = \"NA\",\n",
    "    densidad = 730,\n",
    "    viscosidad = 0.4e-3,\n",
    "    cp = 2470,\n",
    "    coeficiente_conductivo = 0.132,\n",
    "    numero_prandtl = 0.4e-3*2470/0.132,\n",
    "    Rf = 0.0002,\n",
    "    flujo_masico = 25\n",
    ")\n",
    "\n",
    "propiedadesPetroleo = obj.Propiedades(\n",
    "    fluido = \"Petroleo\",\n",
    "    temp_entrada_salida = [35,74.94],\n",
    "    temperaturas_propiedades = \"NA\",\n",
    "    densidad = 830,\n",
    "    viscosidad = 3.6e-3,\n",
    "    cp = 2050,\n",
    "    coeficiente_conductivo = 0.133,\n",
    "    numero_prandtl = 3.6e-3*2050/0.133,\n",
    "    Rf = 0.0005,\n",
    "    flujo_masico = 0\n",
    ")\n",
    "\n",
    "intercambiador1 = obj.Intercambiador(\n",
    "\n",
    ")\n"
   ]
  },
  {
   "cell_type": "markdown",
   "metadata": {},
   "source": [
    "Se determinan los parámetros faltantes, como es Q y el flujo másico del petróleo por medio de un balance de energía"
   ]
  },
  {
   "cell_type": "code",
   "execution_count": 3,
   "metadata": {},
   "outputs": [
    {
     "name": "stdout",
     "output_type": "stream",
     "text": [
      "Se desconoce el flujo másico del fluido que se calienta.\n",
      "Q =  6473870.0 \n",
      "m2 =  79.0682365010931\n"
     ]
    }
   ],
   "source": [
    "Q, m2 = obj.balance_energia(\n",
    "    m = [25,0],\n",
    "    Cp = [2470,2050],\n",
    "    Ti = [200,35],\n",
    "    To = [95.16,74.94],\n",
    "    calc = \"m\"\n",
    ")\n",
    "\n",
    "print(\"Q = \",Q ,\"\\nm2 = \", m2)\n",
    "\n",
    "propiedadesPetroleo.flujo_masico = m2"
   ]
  },
  {
   "cell_type": "markdown",
   "metadata": {},
   "source": [
    "Con base en la resistencia de ensuciamiento se decide que el queroseno, que es el que menos ensucia, es el fluido que va por coraza; mientras que el petróleo va por tubos.\n"
   ]
  },
  {
   "cell_type": "code",
   "execution_count": 4,
   "metadata": {},
   "outputs": [],
   "source": [
    "FlujoTubos = propiedadesPetroleo\n",
    "FlujoCoraza = propiedadesQueroseno"
   ]
  },
  {
   "cell_type": "markdown",
   "metadata": {},
   "source": [
    "## Iteración 1\n",
    "\n",
    "Se procede ahora a proponer un coeficiente global de transferencia de calor para el intercambiador, el cual, con base en la figura 5 y teniendo en cuenta que son aceites pesados (Heavy oils) los fluidos de trabajo, se escoge del promedio entre 50 y 300 W/m2°C.\n",
    "\n",
    "Además, se establecen características del diseño, como el número de pasos por tubos y por coraza, el corte de bafle y el tipo de pitch."
   ]
  },
  {
   "cell_type": "code",
   "execution_count": 5,
   "metadata": {},
   "outputs": [],
   "source": [
    "U = 291#(50+300)/2\n",
    "\n",
    "pasos_tubos = 1\n",
    "pasos_coraza = 1\n",
    "corte_bafle = '15%'\n",
    "\n",
    "tipo_pitch = \"triangular\""
   ]
  },
  {
   "cell_type": "markdown",
   "metadata": {},
   "source": [
    "Se evalúan las porpiedades para el lado tubos"
   ]
  },
  {
   "cell_type": "code",
   "execution_count": 6,
   "metadata": {},
   "outputs": [
    {
     "name": "stdout",
     "output_type": "stream",
     "text": [
      "Para el lado tubos:\n"
     ]
    },
    {
     "data": {
      "text/plain": [
       "(226.5690672072488, 541.6321489955797, 7084.4857058898515)"
      ]
     },
     "execution_count": 6,
     "metadata": {},
     "output_type": "execute_result"
    }
   ],
   "source": [
    "obj.lado_tubos(\n",
    "    Q = Q,\n",
    "    U = U, \n",
    "    pasos_tubos = pasos_tubos,\n",
    "    caracteristicas_tuberia = tuberia_acero, \n",
    "    FlujoCaliente = FlujoCaliente, \n",
    "    FlujoFrio = FlujoFrio, \n",
    "    FlujoTubos = FlujoTubos,\n",
    "    Intercambiador = intercambiador1\n",
    "    )\n"
   ]
  },
  {
   "cell_type": "markdown",
   "metadata": {},
   "source": [
    "Para el lado coraza"
   ]
  },
  {
   "cell_type": "code",
   "execution_count": 7,
   "metadata": {},
   "outputs": [
    {
     "data": {
      "text/plain": [
       "(2002.815051782778, 245205.3155494682)"
      ]
     },
     "execution_count": 7,
     "metadata": {},
     "output_type": "execute_result"
    }
   ],
   "source": [
    "obj.lado_coraza(\n",
    "    caracteristicas_tuberia = tuberia_acero,\n",
    "    FlujoCoraza = FlujoCoraza,\n",
    "    numero_tubos = intercambiador1.numero_tubos,\n",
    "    pasos_tubos = pasos_tubos,\n",
    "    tipo_pitch = tipo_pitch,\n",
    "    corte_bafle = corte_bafle,\n",
    "    Intercambiador = intercambiador1\n",
    ")"
   ]
  },
  {
   "cell_type": "code",
   "execution_count": 8,
   "metadata": {},
   "outputs": [
    {
     "name": "stdout",
     "output_type": "stream",
     "text": [
      "\n",
      "LADO TUBOS: \n",
      "\n",
      "\n",
      "    Pasos: 1\n",
      "    Diferencia de temperaturas media: 79.92081901047641\n",
      "    Área total de transferencia de calor: 278.36271225024535 m2\n",
      "    Número de tubos: 541.6321489955797 tubos\n",
      "    Longitud tubos: 8.61 m\n",
      "    Diámetro exterior: 0.019 m\n",
      "    Espesor: 0.001 m \n",
      "    Tubos por paso: 541.6321489955797 tubos\n",
      "    velocidad en lado tubos: 0.7748752719680598 m/s\n",
      "    Reynolds en tubos: 3037.0805798525903\n",
      "\n",
      "    jh: 0.0025\n",
      "    jf: 0.0064\n",
      "    h lado tubos (hi): 226.5690672072488 W/m2K\n",
      "    ΔP lado tubos: 7084.4857058898515 Pa\n",
      "\n",
      "LADO CORAZA:\n",
      "\n",
      "    Diámetro del banco de tubos: 0.6118568737572134 m\n",
      "    Diámetro interno coraza: 0.6732323606103877 m\n",
      "    Separación de bafles: 0.2692929442441551 m\n",
      "    Pitch de los tubos: 0.02375 m\n",
      "    Tipo de pitch: triangular\n",
      "    Área de flujo en coraza: 0.03625934490984282 m2\n",
      "    Diámetro hidráulico: 0.01349095 m\n",
      "    Velocidad lado coraza: 0.9444896323311487 m/s\n",
      "    Re: 23254.263889668688\n",
      "    Corte de bafle: 15%\n",
      "\n",
      "    jh: 0.0045\n",
      "    jf: 0.059\n",
      "    h lado coraza (ho ó hs): 2002.815051782778 W/m2K\n",
      "    ΔP lado coraza: 245205.3155494682 Pa\n",
      "\n",
      "    \n"
     ]
    }
   ],
   "source": [
    "print(intercambiador1)"
   ]
  },
  {
   "cell_type": "markdown",
   "metadata": {},
   "source": [
    "Con la información obtenida, se calcula el coeficiente global de transferencia de calor y se determina el error asociado.\n"
   ]
  },
  {
   "cell_type": "code",
   "execution_count": 9,
   "metadata": {},
   "outputs": [
    {
     "name": "stdout",
     "output_type": "stream",
     "text": [
      "El coeficiente global de transferecia de calor: 160.88515785005987 W/m2K\n",
      "Para el valor calculado = 160.88515785005987, %error = 44.71300417523716%\n",
      "Para el valor calculado = 7084.4857058898515, %error = 82.28878573527538%\n",
      "Para el valor calculado = 245205.3155494682, %error = 1534.7021036631213%\n"
     ]
    }
   ],
   "source": [
    "U_calculado = obj.coefiente_global_U(\n",
    "    h_conv = [intercambiador1.hi,intercambiador1.h_coraza],\n",
    "    k = tuberia_acero.k,\n",
    "    di = tuberia_acero.di,\n",
    "    do = tuberia_acero.do,\n",
    "    foul_f = [propiedadesPetroleo.Rf, propiedadesQueroseno.Rf]\n",
    ")\n",
    "\n",
    "error_U = obj.error(\n",
    "    valor_propuesto=U,\n",
    "    valor_calculado = U_calculado\n",
    "    )\n",
    "\n",
    "error_presion_tubos = obj.error(\n",
    "    valor_propuesto = 40e3,\n",
    "    valor_calculado = intercambiador1.caida_presion_tubos\n",
    ")\n",
    "\n",
    "error_presion_coraza = obj.error(\n",
    "    valor_propuesto = 15e3,\n",
    "    valor_calculado = intercambiador1.caida_presion_coraza\n",
    ")"
   ]
  },
  {
   "cell_type": "markdown",
   "metadata": {},
   "source": [
    "Podemos observar que los valores obtenidos se salen del rango de aceptación (%e para U = 30%, %e ΔP = 10%). Como el coeficiente global de transferencia de calor U se sale del rango de valores típicos, se procede a redimensionar el equipo proponiendo ahora 2 pasos por tubos.\n",
    "\n",
    "## Iteración 2"
   ]
  },
  {
   "cell_type": "code",
   "execution_count": 10,
   "metadata": {},
   "outputs": [],
   "source": [
    "pasos_tubos = 2\n",
    "corte_bafle = \"45%\"\n",
    "\n",
    "intercambiador2 = obj.Intercambiador()"
   ]
  },
  {
   "cell_type": "code",
   "execution_count": 11,
   "metadata": {},
   "outputs": [
    {
     "name": "stdout",
     "output_type": "stream",
     "text": [
      "Para el lado tubos:\n",
      "\n",
      "LADO TUBOS: \n",
      "\n",
      "\n",
      "    Pasos: 2\n",
      "    Diferencia de temperaturas media: 79.92081901047641\n",
      "    Área total de transferencia de calor: 278.36271225024535 m2\n",
      "    Número de tubos: 541.6321489955797 tubos\n",
      "    Longitud tubos: 8.61 m\n",
      "    Diámetro exterior: 0.019 m\n",
      "    Espesor: 0.001 m \n",
      "    Tubos por paso: 270.8160744977898 tubos\n",
      "    velocidad en lado tubos: 1.5497505439361197 m/s\n",
      "    Reynolds en tubos: 6074.161159705181\n",
      "\n",
      "    jh: 0.0035\n",
      "    jf: 0.0055\n",
      "    h lado tubos (hi): 634.3933881802967 W/m2K\n",
      "    ΔP lado tubos: 49406.65558778859 Pa\n",
      "\n",
      "LADO CORAZA:\n",
      "\n",
      "    Diámetro del banco de tubos: 0.6180017537735323 m\n",
      "    Diámetro interno coraza: 0.6795469622127572 m\n",
      "    Separación de bafles: 0.2718187848851029 m\n",
      "    Pitch de los tubos: 0.02375 m\n",
      "    Tipo de pitch: triangular\n",
      "    Área de flujo en coraza: 0.03694272590820693 m2\n",
      "    Diámetro hidráulico: 0.01349095 m\n",
      "    Velocidad lado coraza: 0.9270180935635229 m/s\n",
      "    Re: 22824.097417583478\n",
      "    Corte de bafle: 45%\n",
      "\n",
      "    jh: 0.003\n",
      "    jf: 0.028\n",
      "    h lado coraza (ho ó hs): 1310.5107968780314 W/m2K\n",
      "    ΔP lado coraza: 112103.17987557504 Pa\n",
      "\n",
      "    \n"
     ]
    }
   ],
   "source": [
    "obj.lado_tubos(\n",
    "    Q = Q,\n",
    "    U = U, \n",
    "    pasos_tubos = pasos_tubos,\n",
    "    caracteristicas_tuberia = tuberia_acero, \n",
    "    FlujoCaliente = FlujoCaliente, \n",
    "    FlujoFrio = FlujoFrio, \n",
    "    FlujoTubos = FlujoTubos,\n",
    "    Intercambiador = intercambiador2\n",
    "    )\n",
    "\n",
    "obj.lado_coraza(\n",
    "    caracteristicas_tuberia = tuberia_acero,\n",
    "    FlujoCoraza = FlujoCoraza,\n",
    "    numero_tubos = intercambiador2.numero_tubos,\n",
    "    pasos_tubos = pasos_tubos,\n",
    "    tipo_pitch = tipo_pitch,\n",
    "    corte_bafle = corte_bafle,\n",
    "    Intercambiador = intercambiador2\n",
    ")\n",
    "\n",
    "print(intercambiador2)"
   ]
  },
  {
   "cell_type": "code",
   "execution_count": 12,
   "metadata": {},
   "outputs": [
    {
     "name": "stdout",
     "output_type": "stream",
     "text": [
      "El coeficiente global de transferecia de calor: 302.2778158976255 W/m2K\n",
      "Para el valor calculado = 302.2778158976255, %error = 3.8755381091496517%\n",
      "Para el valor calculado = 49406.65558778859, %error = 23.51663896947148%\n",
      "Para el valor calculado = 112103.17987557504, %error = 647.3545325038335%\n"
     ]
    }
   ],
   "source": [
    "U_calculado2 = obj.coefiente_global_U(\n",
    "    h_conv = [intercambiador2.hi,intercambiador2.h_coraza],\n",
    "    k = tuberia_acero.k,\n",
    "    di = tuberia_acero.di,\n",
    "    do = tuberia_acero.do,\n",
    "    foul_f = [propiedadesPetroleo.Rf, propiedadesQueroseno.Rf]\n",
    ")\n",
    "\n",
    "error_U = obj.error(\n",
    "    valor_propuesto=U,\n",
    "    valor_calculado = U_calculado2\n",
    "    )\n",
    "\n",
    "error_presion_tubos = obj.error(\n",
    "    valor_propuesto = 40e3,\n",
    "    valor_calculado = intercambiador2.caida_presion_tubos\n",
    ")\n",
    "\n",
    "error_presion_coraza = obj.error(\n",
    "    valor_propuesto = 15e3,\n",
    "    valor_calculado = intercambiador2.caida_presion_coraza\n",
    ")"
   ]
  },
  {
   "cell_type": "markdown",
   "metadata": {},
   "source": [
    "Por los resultados obtenidos, se cambian las características del intercambiador.\n",
    "\n",
    "## Iteración 3"
   ]
  },
  {
   "cell_type": "code",
   "execution_count": 13,
   "metadata": {},
   "outputs": [],
   "source": [
    "tuberia_acero2 = obj.Tuberia(\n",
    "    material = \"Acero al carbón\",\n",
    "    do = 0.020,\n",
    "    espesor = 0.001,\n",
    "    L = 6,\n",
    "    k = 43\n",
    ")\n",
    "\n",
    "intercambiador3 = obj.Intercambiador()\n"
   ]
  },
  {
   "cell_type": "code",
   "execution_count": 14,
   "metadata": {},
   "outputs": [
    {
     "name": "stdout",
     "output_type": "stream",
     "text": [
      "Para el lado tubos:\n",
      "\n",
      "LADO TUBOS: \n",
      "\n",
      "\n",
      "    Pasos: 2\n",
      "    Diferencia de temperaturas media: 79.92081901047641\n",
      "    Área total de transferencia de calor: 278.36271225024535 m2\n",
      "    Número de tubos: 738.3800271182239 tubos\n",
      "    Longitud tubos: 6 m\n",
      "    Diámetro exterior: 0.02 m\n",
      "    Espesor: 0.001 m \n",
      "    Tubos por paso: 369.19001355911195 tubos\n",
      "    velocidad en lado tubos: 1.0140027285864588 m/s\n",
      "    Reynolds en tubos: 4208.111323633804\n",
      "\n",
      "    jh: 0.00337\n",
      "    jf: 0.0065\n",
      "    h lado tubos (hi): 399.66657678551553 W/m2K\n",
      "    ΔP lado tubos: 16925.91091196233 Pa\n",
      "\n",
      "LADO CORAZA:\n",
      "\n",
      "    Diámetro del banco de tubos: 0.7485878436101264 m\n",
      "    Diámetro interno coraza: 0.8137398398506381 m\n",
      "    Separación de bafles: 0.3254959359402553 m\n",
      "    Pitch de los tubos: 0.025 m\n",
      "    Tipo de pitch: triangular\n",
      "    Área de flujo en coraza: 0.052973802156811384 m2\n",
      "    Diámetro hidráulico: 0.014201000000000005 m\n",
      "    Velocidad lado coraza: 0.6464813539547363 m/s\n",
      "    Re: 16754.744116207963\n",
      "    Corte de bafle: 45%\n",
      "\n",
      "    jh: 0.0035\n",
      "    jf: 0.03\n",
      "    h lado coraza (ho ó hs): 1066.2405263973212 W/m2K\n",
      "    ΔP lado coraza: 38671.27084632417 Pa\n",
      "\n",
      "    \n"
     ]
    }
   ],
   "source": [
    "obj.lado_tubos(\n",
    "    Q = Q,\n",
    "    U = U, \n",
    "    pasos_tubos = pasos_tubos,\n",
    "    caracteristicas_tuberia = tuberia_acero2, \n",
    "    FlujoCaliente = FlujoCaliente, \n",
    "    FlujoFrio = FlujoFrio, \n",
    "    FlujoTubos = FlujoTubos,\n",
    "    Intercambiador = intercambiador3\n",
    "    )\n",
    "\n",
    "obj.lado_coraza(\n",
    "    caracteristicas_tuberia = tuberia_acero2,\n",
    "    FlujoCoraza = FlujoCoraza,\n",
    "    numero_tubos = intercambiador3.numero_tubos,\n",
    "    pasos_tubos = pasos_tubos,\n",
    "    tipo_pitch = tipo_pitch,\n",
    "    corte_bafle = corte_bafle,\n",
    "    Intercambiador = intercambiador3\n",
    ")\n",
    "\n",
    "print(intercambiador3)\n",
    "\n"
   ]
  },
  {
   "cell_type": "code",
   "execution_count": 15,
   "metadata": {},
   "outputs": [
    {
     "name": "stdout",
     "output_type": "stream",
     "text": [
      "El coeficiente global de transferecia de calor: 222.31965571224183 W/m2K\n",
      "Para el valor calculado = 222.31965571224183, %error = 23.601492882391124%\n",
      "Para el valor calculado = 16925.91091196233, %error = 57.685222720094174%\n",
      "Para el valor calculado = 38671.27084632417, %error = 157.80847230882782%\n"
     ]
    }
   ],
   "source": [
    "U_calculado3 = obj.coefiente_global_U(\n",
    "    h_conv = [intercambiador3.hi,intercambiador3.h_coraza],\n",
    "    k = tuberia_acero2.k,\n",
    "    di = tuberia_acero2.di,\n",
    "    do = tuberia_acero2.do,\n",
    "    foul_f = [propiedadesPetroleo.Rf, propiedadesQueroseno.Rf]\n",
    ")\n",
    "\n",
    "error_U = obj.error(\n",
    "    valor_propuesto=U,\n",
    "    valor_calculado = U_calculado3\n",
    "    )\n",
    "\n",
    "error_presion_tubos = obj.error(\n",
    "    valor_propuesto = 40e3,\n",
    "    valor_calculado = intercambiador3.caida_presion_tubos\n",
    ")\n",
    "\n",
    "error_presion_coraza = obj.error(\n",
    "    valor_propuesto = 15e3,\n",
    "    valor_calculado = intercambiador3.caida_presion_coraza\n",
    ")"
   ]
  },
  {
   "cell_type": "markdown",
   "metadata": {},
   "source": [
    "## Iteración 4"
   ]
  },
  {
   "cell_type": "code",
   "execution_count": 16,
   "metadata": {},
   "outputs": [
    {
     "name": "stdout",
     "output_type": "stream",
     "text": [
      "Para el lado tubos:\n",
      "\n",
      "LADO TUBOS: \n",
      "\n",
      "\n",
      "    Pasos: 4\n",
      "    Diferencia de temperaturas media: 79.92081901047641\n",
      "    Área total de transferencia de calor: 364.35621945037497 m2\n",
      "    Número de tubos: 1449.7273342950639 tubos\n",
      "    Longitud tubos: 4 m\n",
      "    Diámetro exterior: 0.02 m\n",
      "    Espesor: 0.002 m \n",
      "    Tubos por paso: 362.43183357376597 tubos\n",
      "    velocidad en lado tubos: 1.3072774726775374 m/s\n",
      "    Reynolds en tubos: 4822.401343654916\n",
      "\n",
      "    jh: 0.0038\n",
      "    jf: 0.0058\n",
      "    h lado tubos (hi): 581.0054151763774 W/m2K\n",
      "    ΔP lado tubos: 40000.25458568539 Pa\n",
      "\n",
      "LADO CORAZA:\n",
      "\n",
      "    Diámetro del banco de tubos: 1.0370494920596192 m\n",
      "    Diámetro interno coraza: 1.1101687990303057 m\n",
      "    Separación de bafles: 0.4440675196121223 m\n",
      "    Pitch de los tubos: 0.025 m\n",
      "    Tipo de pitch: triangular\n",
      "    Área de flujo en coraza: 0.09859798098723133 m2\n",
      "    Diámetro hidráulico: 0.014201000000000005 m\n",
      "    Velocidad lado coraza: 0.34733546264908577 m/s\n",
      "    Re: 9001.832401770394\n",
      "    Corte de bafle: 15%\n",
      "\n",
      "    jh: 0.0046\n",
      "    jf: 0.034\n",
      "    h lado coraza (ho ó hs): 752.9013851557166 W/m2K\n",
      "    ΔP lado coraza: 8434.145606903465 Pa\n",
      "\n",
      "    \n"
     ]
    }
   ],
   "source": [
    "tuberia_acero3 = obj.Tuberia(\n",
    "    material = \"Acero al carbón\",\n",
    "    do = 0.020,\n",
    "    espesor = 0.002,\n",
    "    L = 4,\n",
    "    k = 43\n",
    ")\n",
    "\n",
    "intercambiador4 = obj.Intercambiador()\n",
    "pasos_tubos = 4\n",
    "corte_bafle = \"15%\"\n",
    "\n",
    "obj.lado_tubos(\n",
    "    Q = Q,\n",
    "    U = U_calculado3, \n",
    "    pasos_tubos = pasos_tubos,\n",
    "    caracteristicas_tuberia = tuberia_acero3, \n",
    "    FlujoCaliente = FlujoCaliente, \n",
    "    FlujoFrio = FlujoFrio, \n",
    "    FlujoTubos = FlujoTubos,\n",
    "    Intercambiador = intercambiador4\n",
    "    )\n",
    "\n",
    "obj.lado_coraza(\n",
    "    caracteristicas_tuberia = tuberia_acero3,\n",
    "    FlujoCoraza = FlujoCoraza,\n",
    "    numero_tubos = intercambiador4.numero_tubos,\n",
    "    pasos_tubos = pasos_tubos,\n",
    "    tipo_pitch = tipo_pitch,\n",
    "    corte_bafle = corte_bafle,\n",
    "    Intercambiador = intercambiador4\n",
    ")\n",
    "\n",
    "print(intercambiador4)\n"
   ]
  },
  {
   "cell_type": "code",
   "execution_count": 17,
   "metadata": {},
   "outputs": [
    {
     "name": "stdout",
     "output_type": "stream",
     "text": [
      "El coeficiente global de transferecia de calor: 229.54037838168887 W/m2K\n",
      "Para el valor calculado = 229.54037838168887, %error = 3.2479011566989575%\n",
      "Para el valor calculado = 40000.25458568539, %error = 0.0006364642134758469%\n",
      "Para el valor calculado = 8434.145606903465, %error = 43.77236262064357%\n"
     ]
    }
   ],
   "source": [
    "U_calculado4 = obj.coefiente_global_U(\n",
    "    h_conv = [intercambiador4.hi,intercambiador4.h_coraza],\n",
    "    k = tuberia_acero3.k,\n",
    "    di = tuberia_acero3.di,\n",
    "    do = tuberia_acero3.do,\n",
    "    foul_f = [propiedadesPetroleo.Rf, propiedadesQueroseno.Rf]\n",
    ")\n",
    "\n",
    "error_U = obj.error(\n",
    "    valor_propuesto=U_calculado3,\n",
    "    valor_calculado = U_calculado4\n",
    "    )\n",
    "\n",
    "error_presion_tubos = obj.error(\n",
    "    valor_propuesto = 40e3,\n",
    "    valor_calculado = intercambiador4.caida_presion_tubos\n",
    ")\n",
    "\n",
    "error_presion_coraza = obj.error(\n",
    "    valor_propuesto = 15e3,\n",
    "    valor_calculado = intercambiador4.caida_presion_coraza\n",
    ")"
   ]
  },
  {
   "cell_type": "markdown",
   "metadata": {},
   "source": [
    "## Iteración 5"
   ]
  },
  {
   "cell_type": "code",
   "execution_count": 18,
   "metadata": {},
   "outputs": [
    {
     "name": "stdout",
     "output_type": "stream",
     "text": [
      "Para el lado tubos:\n",
      "\n",
      "LADO TUBOS: \n",
      "\n",
      "\n",
      "    Pasos: 4\n",
      "    Diferencia de temperaturas media: 79.92081901047641\n",
      "    Área total de transferencia de calor: 364.35621945037497 m2\n",
      "    Número de tubos: 1449.7273342950639 tubos\n",
      "    Longitud tubos: 4 m\n",
      "    Diámetro exterior: 0.02 m\n",
      "    Espesor: 0.002 m \n",
      "    Tubos por paso: 362.43183357376597 tubos\n",
      "    velocidad en lado tubos: 1.3072774726775374 m/s\n",
      "    Reynolds en tubos: 4822.401343654916\n",
      "\n",
      "    jh: 0.0038\n",
      "    jf: 0.0058\n",
      "    h lado tubos (hi): 581.0054151763774 W/m2K\n",
      "    ΔP lado tubos: 40000.25458568539 Pa\n",
      "\n",
      "LADO CORAZA:\n",
      "\n",
      "    Diámetro del banco de tubos: 1.0370494920596192 m\n",
      "    Diámetro interno coraza: 1.1101687990303057 m\n",
      "    Separación de bafles: 0.4440675196121223 m\n",
      "    Pitch de los tubos: 0.025 m\n",
      "    Tipo de pitch: triangular\n",
      "    Área de flujo en coraza: 0.09859798098723133 m2\n",
      "    Diámetro hidráulico: 0.014201000000000005 m\n",
      "    Velocidad lado coraza: 0.34733546264908577 m/s\n",
      "    Re: 9001.832401770394\n",
      "    Corte de bafle: 20%\n",
      "\n",
      "    jh: 0.00645\n",
      "    jf: 0.06\n",
      "    h lado coraza (ho ó hs): 1055.6986813596461 W/m2K\n",
      "    ΔP lado coraza: 14883.78636512376 Pa\n",
      "\n",
      "    \n"
     ]
    }
   ],
   "source": [
    "intercambiador5 = obj.Intercambiador()\n",
    "corte_bafle = \"20%\"\n",
    "\n",
    "obj.lado_tubos(\n",
    "    Q = Q,\n",
    "    U = U_calculado3, \n",
    "    pasos_tubos = pasos_tubos,\n",
    "    caracteristicas_tuberia = tuberia_acero3, \n",
    "    FlujoCaliente = FlujoCaliente, \n",
    "    FlujoFrio = FlujoFrio, \n",
    "    FlujoTubos = FlujoTubos,\n",
    "    Intercambiador = intercambiador5\n",
    "    )\n",
    "\n",
    "obj.lado_coraza(\n",
    "    caracteristicas_tuberia = tuberia_acero3,\n",
    "    FlujoCoraza = FlujoCoraza,\n",
    "    numero_tubos = intercambiador5.numero_tubos,\n",
    "    pasos_tubos = pasos_tubos,\n",
    "    tipo_pitch = tipo_pitch,\n",
    "    corte_bafle = corte_bafle,\n",
    "    Intercambiador = intercambiador5\n",
    ")\n",
    "\n",
    "print(intercambiador5)"
   ]
  },
  {
   "cell_type": "code",
   "execution_count": 19,
   "metadata": {},
   "outputs": [
    {
     "name": "stdout",
     "output_type": "stream",
     "text": [
      "El coeficiente global de transferecia de calor: 251.53582912248396 W/m2K\n",
      "Para el valor calculado = 251.53582912248396, %error = 13.141516127596889%\n",
      "Para el valor calculado = 40000.25458568539, %error = 0.0006364642134758469%\n",
      "Para el valor calculado = 14883.78636512376, %error = 0.7747575658415977%\n"
     ]
    }
   ],
   "source": [
    "U_calculado5 = obj.coefiente_global_U(\n",
    "    h_conv = [intercambiador5.hi,intercambiador5.h_coraza],\n",
    "    k = tuberia_acero3.k,\n",
    "    di = tuberia_acero3.di,\n",
    "    do = tuberia_acero3.do,\n",
    "    foul_f = [propiedadesPetroleo.Rf, propiedadesQueroseno.Rf]\n",
    ")\n",
    "\n",
    "error_U = obj.error(\n",
    "    valor_propuesto=U_calculado3,\n",
    "    valor_calculado = U_calculado5\n",
    "    )\n",
    "\n",
    "error_presion_tubos = obj.error(\n",
    "    valor_propuesto = 40e3,\n",
    "    valor_calculado = intercambiador5.caida_presion_tubos\n",
    ")\n",
    "\n",
    "error_presion_coraza = obj.error(\n",
    "    valor_propuesto = 15e3,\n",
    "    valor_calculado = intercambiador5.caida_presion_coraza\n",
    ")"
   ]
  },
  {
   "cell_type": "markdown",
   "metadata": {},
   "source": [
    "Esta última iteración satisface los requerimentos en caída de presión y de transferencia de calor, entonces este es un diseño que se ajusta al servicio requerido."
   ]
  },
  {
   "cell_type": "markdown",
   "metadata": {},
   "source": [
    "### Referencias\n",
    "\n",
    "[1] Sinnott, R. (2005). Chemical Engineering Design: Chemical Engineering Volume 6 (Chemical Engineering Series) (4th ed.). Butterworth-Heinemann."
   ]
  }
 ],
 "metadata": {
  "interpreter": {
   "hash": "4c198e45049778e37c4812e8fd6dd5761893769996f091fbeee0502542a78791"
  },
  "kernelspec": {
   "display_name": "Python 3.10.2 ('det_env': venv)",
   "language": "python",
   "name": "python3"
  },
  "language_info": {
   "codemirror_mode": {
    "name": "ipython",
    "version": 3
   },
   "file_extension": ".py",
   "mimetype": "text/x-python",
   "name": "python",
   "nbconvert_exporter": "python",
   "pygments_lexer": "ipython3",
   "version": "3.10.2"
  },
  "orig_nbformat": 4
 },
 "nbformat": 4,
 "nbformat_minor": 2
}
